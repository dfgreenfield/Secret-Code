{
 "cells": [
  {
   "cell_type": "code",
   "execution_count": 6,
   "id": "77e08713",
   "metadata": {},
   "outputs": [
    {
     "name": "stdout",
     "output_type": "stream",
     "text": [
      "What is your code?42\n",
      "Incorrect, Try again!\n",
      "What is your code?24689\n",
      "Correct, Welcome back!\n",
      "What is your code?14\n",
      "Incorrect, Try again!\n",
      "Sorry, you have been locked out\n"
     ]
    }
   ],
   "source": [
    "code = \"24689\"\n",
    "\n",
    "for index in range(3):\n",
    "    answer = input(\"What is your code?\")\n",
    "    if answer == code:\n",
    "        print(\"Correct, Welcome back!\")\n",
    "    \n",
    "    elif answer != code:\n",
    "        print(\"Incorrect, Try again!\")\n",
    "                       \n",
    "print(\"Sorry, you have been locked out\")"
   ]
  },
  {
   "cell_type": "code",
   "execution_count": null,
   "id": "bc3a2807",
   "metadata": {},
   "outputs": [],
   "source": []
  }
 ],
 "metadata": {
  "kernelspec": {
   "display_name": "Python 3",
   "language": "python",
   "name": "python3"
  },
  "language_info": {
   "codemirror_mode": {
    "name": "ipython",
    "version": 3
   },
   "file_extension": ".py",
   "mimetype": "text/x-python",
   "name": "python",
   "nbconvert_exporter": "python",
   "pygments_lexer": "ipython3",
   "version": "3.8.8"
  }
 },
 "nbformat": 4,
 "nbformat_minor": 5
}
